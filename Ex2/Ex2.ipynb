{
 "cells": [
  {
   "cell_type": "markdown",
   "metadata": {},
   "source": [
    "\n",
    "Object 2 : WAP to implement a multi-layer perceptron (MLP) network with one hidden layer using numpy in Python. Demonstrate that it can learn the XOR Boolean function."
   ]
  },
  {
   "cell_type": "code",
   "execution_count": 1,
   "metadata": {},
   "outputs": [
    {
     "name": "stdout",
     "output_type": "stream",
     "text": [
      "Input: [0 0] -> Predicted XOR Output: 0, Expected: 0\n",
      "Input: [0 1] -> Predicted XOR Output: 1, Expected: 1\n",
      "Input: [1 0] -> Predicted XOR Output: 1, Expected: 1\n",
      "Input: [1 1] -> Predicted XOR Output: 0, Expected: 0\n",
      "\n",
      "Accuracy: 100.00%\n"
     ]
    }
   ],
   "source": [
    "import numpy as np\n",
    "\n",
    "# Step Function as Perceptron Activation\n",
    "def perceptron(inputs, weights, bias):\n",
    "    return np.where(np.dot(inputs, weights) + bias > 0, 1, 0)\n",
    "\n",
    "# XOR MLP with 4 hidden neurons\n",
    "def xor_mlp(x):\n",
    "    # Define weights and biases for 4 hidden layer perceptrons\n",
    "    h1_w = np.array([1, -1])   # AND-like\n",
    "    h2_w = np.array([-1, 1])   # AND-like\n",
    "    h3_w = np.array([1, 1])    # OR\n",
    "    h4_w = np.array([-1, -1])  # NOR\n",
    "\n",
    "    h1_b = 0\n",
    "    h2_b = 0\n",
    "    h3_b = -0.5\n",
    "    h4_b = 0.5\n",
    "\n",
    "    # Compute Hidden Layer Outputs\n",
    "    h1 = perceptron(x, h1_w, h1_b)\n",
    "    h2 = perceptron(x, h2_w, h2_b)\n",
    "    h3 = perceptron(x, h3_w, h3_b)\n",
    "    h4 = perceptron(x, h4_w, h4_b)\n",
    "\n",
    "    # Stack Hidden Layer Outputs\n",
    "    hidden_output = np.stack((h1, h2, h3, h4), axis=1)\n",
    "\n",
    "    # Output Layer Perceptron (Takes hidden outputs)\n",
    "    xor_w = np.array([1, 1, 0, 0])  # Uses first two neurons\n",
    "    xor_b = 0\n",
    "\n",
    "    # Compute Final XOR Output\n",
    "    return perceptron(hidden_output, xor_w, xor_b)\n",
    "\n",
    "# XOR Truth Table Inputs\n",
    "X = np.array([[0, 0], [0, 1], [1, 0], [1, 1]])\n",
    "Y_true = np.array([0, 1, 1, 0])  # Expected XOR Output\n",
    "\n",
    "# Get Predictions\n",
    "Y_pred = xor_mlp(X)\n",
    "\n",
    "# Compute Accuracy\n",
    "accuracy = np.mean(Y_pred == Y_true) * 100\n",
    "\n",
    "# Print Results\n",
    "for i in range(len(X)):\n",
    "    print(f'Input: {X[i]} -> Predicted XOR Output: {Y_pred[i]}, Expected: {Y_true[i]}')\n",
    "\n",
    "print(f\"\\nAccuracy: {accuracy:.2f}%\")\n"
   ]
  }
 ],
 "metadata": {
  "kernelspec": {
   "display_name": "Python 3",
   "language": "python",
   "name": "python3"
  },
  "language_info": {
   "codemirror_mode": {
    "name": "ipython",
    "version": 3
   },
   "file_extension": ".py",
   "mimetype": "text/x-python",
   "name": "python",
   "nbconvert_exporter": "python",
   "pygments_lexer": "ipython3",
   "version": "3.13.1"
  }
 },
 "nbformat": 4,
 "nbformat_minor": 2
}
